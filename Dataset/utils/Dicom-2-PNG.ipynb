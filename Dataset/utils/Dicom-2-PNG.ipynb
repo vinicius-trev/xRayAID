{
 "cells": [
  {
   "cell_type": "code",
   "execution_count": 7,
   "metadata": {
    "scrolled": false
   },
   "outputs": [],
   "source": [
    "from PIL import Image  #Python image processor package\n",
    "from tqdm import tqdm  #Package to show a progress bar in loops\n",
    "import multiprocessing #Spawm threads to execute tasks in parallel\n",
    "import os              #Util to use OS functions, here it's used to manipulate paths and load files\n",
    "import pydicom         #Util to manipulate DICOM files (Digital Images in Medicine)\n",
    "import json            #Manipulate and Read JSON"
   ]
  },
  {
   "cell_type": "code",
   "execution_count": 8,
   "metadata": {
    "scrolled": false
   },
   "outputs": [],
   "source": [
    "#Opening the JSON settings file\n",
    "with open(\"erniechiew-github-DenseNet-121/SETTINGS.json\") as f:\n",
    "    SETTINGS = json.load(f)"
   ]
  },
  {
   "cell_type": "code",
   "execution_count": 9,
   "metadata": {
    "scrolled": false
   },
   "outputs": [],
   "source": [
    "def listdir_nohidden(path):\n",
    "    for f in os.listdir(path):\n",
    "        if not f.startswith('.'):\n",
    "            yield f"
   ]
  },
  {
   "cell_type": "code",
   "execution_count": 10,
   "metadata": {
    "scrolled": false
   },
   "outputs": [],
   "source": [
    "#Defining a Function to convert images from DICOM to PNG\n",
    "SRC_PATH = \"\"\n",
    "DST_PATH  = \"\"\n",
    "def convert(patientId, src_path=SRC_PATH, dst_path=DST_PATH):\n",
    "    #PatientID -> Looks like a hash per pacient\n",
    "    #src_Path -> Path to source image directory\n",
    "    #dst_Path -> Path to destination image directory\n",
    "    Image.fromarray(\n",
    "        pydicom.dcmread(\n",
    "            os.path.join(SRC_PATH, patientId + '.dcm')  #Loading DICOM image based on the patient ID\n",
    "        ).pixel_array\n",
    "    ).save(os.path.join(DST_PATH, patientId + '.png'))  #Saving PNG image based on the patient ID"
   ]
  },
  {
   "cell_type": "code",
   "execution_count": 5,
   "metadata": {
    "scrolled": false
   },
   "outputs": [
    {
     "name": "stdout",
     "output_type": "stream",
     "text": [
      "rsna-pneumonia-detection-challenge/stage_2_test_images\n",
      "rsna-pneumonia-detection-challenge/stage_2_test_images_png\n"
     ]
    }
   ],
   "source": [
    "#########################################################\n",
    "###############  CONVERTING TEST FILES  #################\n",
    "#########################################################\n",
    "\n",
    "#Loading source and destination path for test files\n",
    "SRC_PATH = os.path.join(SETTINGS[\"TEST_RAW_DATA_DIR\"])\n",
    "DST_PATH  = os.path.join(SETTINGS[\"TEST_CLEAN_DATA_DIR\"])\n",
    "\n",
    "print(SRC_PATH)\n",
    "print(DST_PATH)\n",
    "assert os.path.lexists(SRC_PATH)\n",
    "assert os.path.lexists(DST_PATH)"
   ]
  },
  {
   "cell_type": "code",
   "execution_count": 6,
   "metadata": {
    "scrolled": false
   },
   "outputs": [
    {
     "data": {
      "text/plain": [
       "3000"
      ]
     },
     "execution_count": 6,
     "metadata": {},
     "output_type": "execute_result"
    }
   ],
   "source": [
    "#Creating a list with every patient ID existing in the TEST folder\n",
    "patient_ids = [os.path.splitext(f)[0] for f in listdir_nohidden(SRC_PATH)]\n",
    "len(patient_ids) #Quantidade de dados de TESTE"
   ]
  },
  {
   "cell_type": "code",
   "execution_count": 7,
   "metadata": {
    "scrolled": false
   },
   "outputs": [
    {
     "name": "stderr",
     "output_type": "stream",
     "text": [
      "                                                               \r"
     ]
    }
   ],
   "source": [
    "#Cria e executa as threads para a conversão das imagens\n",
    "with multiprocessing.Pool(multiprocessing.cpu_count()) as p:\n",
    "    pbar = tqdm( #TQDM para mostrar a barra de progresso do loop\n",
    "          total=len(patient_ids)\n",
    "        , leave=False\n",
    "        , desc=\"Converting\"\n",
    "    )\n",
    "    for _ in p.imap_unordered(convert, patient_ids):\n",
    "        pbar.update(1)\n",
    "    pbar.close()"
   ]
  },
  {
   "cell_type": "code",
   "execution_count": 11,
   "metadata": {
    "scrolled": false
   },
   "outputs": [
    {
     "name": "stdout",
     "output_type": "stream",
     "text": [
      "rsna-pneumonia-detection-challenge/stage_2_train_images\n",
      "rsna-pneumonia-detection-challenge/stage_2_train_images_png\n"
     ]
    }
   ],
   "source": [
    "#########################################################\n",
    "##############  CONVERTING TRAIN FILES  #################\n",
    "#########################################################\n",
    "\n",
    "#Carrega os caminhos para os dados de treinamento\n",
    "SRC_PATH = os.path.join(SETTINGS[\"TRAIN_RAW_DATA_DIR\"])\n",
    "DST_PATH  = os.path.join(SETTINGS[\"TRAIN_CLEAN_DATA_DIR\"])\n",
    "\n",
    "print(SRC_PATH)\n",
    "print(DST_PATH)\n",
    "assert os.path.lexists(SRC_PATH)\n",
    "assert os.path.lexists(DST_PATH)"
   ]
  },
  {
   "cell_type": "code",
   "execution_count": 12,
   "metadata": {
    "scrolled": false
   },
   "outputs": [
    {
     "data": {
      "text/plain": [
       "26684"
      ]
     },
     "execution_count": 12,
     "metadata": {},
     "output_type": "execute_result"
    }
   ],
   "source": [
    "#Cria uma lista com todos os patient IDs para as imagens existentes no diretório de treinamento\n",
    "patient_ids = [os.path.splitext(f)[0] for f in listdir_nohidden(SRC_PATH)]\n",
    "\n",
    "#MAC - Remove .DS_Store\n",
    "len(patient_ids) #Quantidade de dados de TREINAMENTO"
   ]
  },
  {
   "cell_type": "code",
   "execution_count": 13,
   "metadata": {
    "scrolled": false
   },
   "outputs": [
    {
     "name": "stderr",
     "output_type": "stream",
     "text": [
      "                                                                 \r"
     ]
    }
   ],
   "source": [
    "#Converte as imagens paralelamente com barra de progresso\n",
    "with multiprocessing.Pool(multiprocessing.cpu_count()) as p:\n",
    "    pbar = tqdm(\n",
    "          total=len(patient_ids)\n",
    "        , leave=False\n",
    "        , desc=\"Converting\"\n",
    "    )\n",
    "    for _ in p.imap_unordered(convert, patient_ids):\n",
    "        pbar.update(1)\n",
    "    pbar.close()"
   ]
  }
 ],
 "metadata": {
  "kernelspec": {
   "display_name": "Python 3",
   "language": "python",
   "name": "python3"
  },
  "language_info": {
   "codemirror_mode": {
    "name": "ipython",
    "version": 3
   },
   "file_extension": ".py",
   "mimetype": "text/x-python",
   "name": "python",
   "nbconvert_exporter": "python",
   "pygments_lexer": "ipython3",
   "version": "3.7.7"
  }
 },
 "nbformat": 4,
 "nbformat_minor": 4
}
