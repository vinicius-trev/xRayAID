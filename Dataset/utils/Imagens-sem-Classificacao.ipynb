{
 "cells": [
  {
   "cell_type": "code",
   "execution_count": 1,
   "metadata": {},
   "outputs": [],
   "source": [
    "#Objetivos:\n",
    "#1. Criar um DF com as imagens que não possuem classificação (stage_2_test_images)\n",
    "#2. Criar outro DF com os IDs que possuem mais de uma classificação no CSV original (stage_2_train_labels.csv)\n",
    "\n",
    "import pandas as pd\n",
    "import os"
   ]
  },
  {
   "cell_type": "code",
   "execution_count": 2,
   "metadata": {},
   "outputs": [],
   "source": [
    "def listdir_nohidden(path):\n",
    "    for f in os.listdir(path):\n",
    "        if not f.startswith('.'):\n",
    "            yield f"
   ]
  },
  {
   "cell_type": "code",
   "execution_count": 3,
   "metadata": {},
   "outputs": [
    {
     "data": {
      "text/plain": [
       "3000"
      ]
     },
     "execution_count": 3,
     "metadata": {},
     "output_type": "execute_result"
    }
   ],
   "source": [
    "##############################################\n",
    "###############  OBJETIVO 1  #################\n",
    "##############################################\n",
    "\n",
    "patient_ids = [os.path.splitext(f)[0] for f in listdir_nohidden('rsna-pneumonia-detection-challenge/stage_2_test_images/')]\n",
    "len(patient_ids) #Quantidade de dados de TESTE\n"
   ]
  },
  {
   "cell_type": "code",
   "execution_count": 4,
   "metadata": {},
   "outputs": [
    {
     "data": {
      "text/html": [
       "<div>\n",
       "<style scoped>\n",
       "    .dataframe tbody tr th:only-of-type {\n",
       "        vertical-align: middle;\n",
       "    }\n",
       "\n",
       "    .dataframe tbody tr th {\n",
       "        vertical-align: top;\n",
       "    }\n",
       "\n",
       "    .dataframe thead th {\n",
       "        text-align: right;\n",
       "    }\n",
       "</style>\n",
       "<table border=\"1\" class=\"dataframe\">\n",
       "  <thead>\n",
       "    <tr style=\"text-align: right;\">\n",
       "      <th></th>\n",
       "      <th>PatientId</th>\n",
       "    </tr>\n",
       "  </thead>\n",
       "  <tbody>\n",
       "    <tr>\n",
       "      <th>0</th>\n",
       "      <td>2392af63-9496-4e72-b348-9276432fd797</td>\n",
       "    </tr>\n",
       "    <tr>\n",
       "      <th>1</th>\n",
       "      <td>2ce40417-1531-4101-be24-e85416c812cc</td>\n",
       "    </tr>\n",
       "    <tr>\n",
       "      <th>2</th>\n",
       "      <td>2bc0fd91-931a-446f-becb-7a6d3f2a7678</td>\n",
       "    </tr>\n",
       "    <tr>\n",
       "      <th>3</th>\n",
       "      <td>29d42f45-5046-4112-87fa-18ea6ea97e75</td>\n",
       "    </tr>\n",
       "    <tr>\n",
       "      <th>4</th>\n",
       "      <td>208e3daf-18cb-4bf7-8325-0acf318ed62c</td>\n",
       "    </tr>\n",
       "  </tbody>\n",
       "</table>\n",
       "</div>"
      ],
      "text/plain": [
       "                              PatientId\n",
       "0  2392af63-9496-4e72-b348-9276432fd797\n",
       "1  2ce40417-1531-4101-be24-e85416c812cc\n",
       "2  2bc0fd91-931a-446f-becb-7a6d3f2a7678\n",
       "3  29d42f45-5046-4112-87fa-18ea6ea97e75\n",
       "4  208e3daf-18cb-4bf7-8325-0acf318ed62c"
      ]
     },
     "execution_count": 4,
     "metadata": {},
     "output_type": "execute_result"
    }
   ],
   "source": [
    "df_no_classification = pd.DataFrame(columns=['PatientId'], data=patient_ids)\n",
    "df_no_classification.head()"
   ]
  },
  {
   "cell_type": "code",
   "execution_count": 5,
   "metadata": {},
   "outputs": [],
   "source": [
    "#Exporting DF\n",
    "df_no_classification.to_csv('rsna-pneumonia-detection-challenge/ids_pacientes_teste.csv', index=False)"
   ]
  },
  {
   "cell_type": "code",
   "execution_count": 7,
   "metadata": {},
   "outputs": [
    {
     "name": "stdout",
     "output_type": "stream",
     "text": [
      "30227\n",
      "26684\n"
     ]
    }
   ],
   "source": [
    "##############################################\n",
    "###############  OBJETIVO 2  #################\n",
    "##############################################\n",
    "\n",
    "df_all_images = pd.read_csv(\"rsna-pneumonia-detection-challenge/stage_2_train_labels.csv\")\n",
    "df_only_existing_images = pd.read_csv(\"rsna-pneumonia-detection-challenge/train_labels_existing_images.csv\")\n",
    "\n",
    "ids_all_images = df_all_images[df_all_images.columns[0]]\n",
    "ids_only_existing_images = df_only_existing_images[df_only_existing_images.columns[0]]\n",
    "\n",
    "print(len(ids_all_images))\n",
    "print(len(ids_only_existing_images))"
   ]
  },
  {
   "cell_type": "code",
   "execution_count": 14,
   "metadata": {},
   "outputs": [],
   "source": [
    "#O resultado estará no DF ids_all_images\n",
    "df_all_images[df_all_images['patientId']=='7be6b4de-afe9-43c0-a581-0f49608c8976']\n",
    "\n",
    "for id in ids_only_existing_images:\n",
    "    index = df_all_images.loc[df_all_images['patientId'] == id].index.values.astype(int)[0]\n",
    "    df_all_images = df_all_images.drop(index)"
   ]
  },
  {
   "cell_type": "code",
   "execution_count": 16,
   "metadata": {},
   "outputs": [],
   "source": [
    "#Exportando o DF que contem as classificações que não possuem imagem\n",
    "df_all_images.to_csv('rsna-pneumonia-detection-challenge/ids_mais_de_uma_classificacao.csv', index=False)"
   ]
  }
 ],
 "metadata": {
  "kernelspec": {
   "display_name": "Python 3",
   "language": "python",
   "name": "python3"
  },
  "language_info": {
   "codemirror_mode": {
    "name": "ipython",
    "version": 3
   },
   "file_extension": ".py",
   "mimetype": "text/x-python",
   "name": "python",
   "nbconvert_exporter": "python",
   "pygments_lexer": "ipython3",
   "version": "3.7.7"
  }
 },
 "nbformat": 4,
 "nbformat_minor": 4
}
